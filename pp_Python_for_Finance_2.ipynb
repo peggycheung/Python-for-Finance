{
 "cells": [
  {
   "cell_type": "markdown",
   "id": "569ff1b6",
   "metadata": {},
   "source": [
    "## Section 11: PART II FINANCE: Calculating and Comparing Rates of Return in Python"
   ]
  },
  {
   "cell_type": "markdown",
   "id": "30dba38d",
   "metadata": {},
   "source": [
    "### LaTex Equation Editor Website: https://www.codecogs.com/eqnedit.php"
   ]
  },
  {
   "cell_type": "markdown",
   "id": "dfd41548",
   "metadata": {},
   "source": [
    "### 62 Calculating a security's rate of return"
   ]
  },
  {
   "cell_type": "markdown",
   "id": "d351406d",
   "metadata": {},
   "source": [
    "**Simple rate of return** = $\\frac{ending \\; price - beginning\\;price}{beginning \\;price} = \\frac{profit}{investment}$\n",
    "\n",
    "* Preferable when dealing with multiple assets over the same timeframe\n",
    "\n",
    "**Logarithmic rate of return =** $log\\frac{ending \\; price}{beginning \\; price}$\n",
    "\n",
    "* Preferable when making calculations about a single asset over time"
   ]
  },
  {
   "cell_type": "markdown",
   "id": "72c758b2",
   "metadata": {},
   "source": []
  },
  {
   "cell_type": "code",
   "execution_count": null,
   "id": "5a1b9af8",
   "metadata": {},
   "outputs": [],
   "source": []
  }
 ],
 "metadata": {
  "kernelspec": {
   "display_name": "Python 3 (ipykernel)",
   "language": "python",
   "name": "python3"
  },
  "language_info": {
   "codemirror_mode": {
    "name": "ipython",
    "version": 3
   },
   "file_extension": ".py",
   "mimetype": "text/x-python",
   "name": "python",
   "nbconvert_exporter": "python",
   "pygments_lexer": "ipython3",
   "version": "3.9.7"
  }
 },
 "nbformat": 4,
 "nbformat_minor": 5
}
