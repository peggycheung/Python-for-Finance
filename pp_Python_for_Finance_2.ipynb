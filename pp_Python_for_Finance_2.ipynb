{
 "cells": [
  {
   "cell_type": "markdown",
   "id": "569ff1b6",
   "metadata": {},
   "source": [
    "## Section 11: PART II FINANCE: Calculating and Comparing Rates of Return in Python"
   ]
  },
  {
   "cell_type": "markdown",
   "id": "30dba38d",
   "metadata": {},
   "source": [
    "### LaTex Equation Editor Website: https://www.codecogs.com/eqnedit.php"
   ]
  },
  {
   "cell_type": "markdown",
   "id": "dfd41548",
   "metadata": {},
   "source": [
    "## 62 Calculating a security's rate of return"
   ]
  },
  {
   "cell_type": "markdown",
   "id": "d351406d",
   "metadata": {},
   "source": [
    "**Simple rate of return** = $\\frac{ending \\; price - beginning\\;price}{beginning \\;price} = \\frac{profit}{investment}$\n",
    "\n",
    "* Preferable when dealing with multiple assets over the same timeframe\n",
    "\n",
    "**Logarithmic rate of return =** $log\\frac{ending \\; price}{beginning \\; price}$\n",
    "\n",
    "* Preferable when making calculations about a single asset over time"
   ]
  },
  {
   "cell_type": "markdown",
   "id": "72c758b2",
   "metadata": {},
   "source": [
    "## 63 Calculating a security's rate of return in Python – Simple Returns – Part I, II"
   ]
  },
  {
   "cell_type": "code",
   "execution_count": 3,
   "id": "5a1b9af8",
   "metadata": {},
   "outputs": [],
   "source": [
    "import numpy as np\n",
    "from pandas_datareader import data as wb\n",
    "import matplotlib.pyplot as plt"
   ]
  },
  {
   "cell_type": "code",
   "execution_count": 4,
   "id": "46340ffb",
   "metadata": {},
   "outputs": [],
   "source": [
    "PG = wb.DataReader('PG', data_source = 'yahoo', start = '1995-1-1')"
   ]
  },
  {
   "cell_type": "code",
   "execution_count": 5,
   "id": "7d36743e",
   "metadata": {},
   "outputs": [
    {
     "data": {
      "text/html": [
       "<div>\n",
       "<style scoped>\n",
       "    .dataframe tbody tr th:only-of-type {\n",
       "        vertical-align: middle;\n",
       "    }\n",
       "\n",
       "    .dataframe tbody tr th {\n",
       "        vertical-align: top;\n",
       "    }\n",
       "\n",
       "    .dataframe thead th {\n",
       "        text-align: right;\n",
       "    }\n",
       "</style>\n",
       "<table border=\"1\" class=\"dataframe\">\n",
       "  <thead>\n",
       "    <tr style=\"text-align: right;\">\n",
       "      <th></th>\n",
       "      <th>High</th>\n",
       "      <th>Low</th>\n",
       "      <th>Open</th>\n",
       "      <th>Close</th>\n",
       "      <th>Volume</th>\n",
       "      <th>Adj Close</th>\n",
       "    </tr>\n",
       "    <tr>\n",
       "      <th>Date</th>\n",
       "      <th></th>\n",
       "      <th></th>\n",
       "      <th></th>\n",
       "      <th></th>\n",
       "      <th></th>\n",
       "      <th></th>\n",
       "    </tr>\n",
       "  </thead>\n",
       "  <tbody>\n",
       "    <tr>\n",
       "      <th>1995-01-03</th>\n",
       "      <td>15.62500</td>\n",
       "      <td>15.43750</td>\n",
       "      <td>15.46875</td>\n",
       "      <td>15.59375</td>\n",
       "      <td>3318400.0</td>\n",
       "      <td>7.971821</td>\n",
       "    </tr>\n",
       "    <tr>\n",
       "      <th>1995-01-04</th>\n",
       "      <td>15.65625</td>\n",
       "      <td>15.31250</td>\n",
       "      <td>15.53125</td>\n",
       "      <td>15.46875</td>\n",
       "      <td>2218800.0</td>\n",
       "      <td>7.907916</td>\n",
       "    </tr>\n",
       "    <tr>\n",
       "      <th>1995-01-05</th>\n",
       "      <td>15.43750</td>\n",
       "      <td>15.21875</td>\n",
       "      <td>15.37500</td>\n",
       "      <td>15.25000</td>\n",
       "      <td>2319600.0</td>\n",
       "      <td>7.796084</td>\n",
       "    </tr>\n",
       "    <tr>\n",
       "      <th>1995-01-06</th>\n",
       "      <td>15.40625</td>\n",
       "      <td>15.15625</td>\n",
       "      <td>15.15625</td>\n",
       "      <td>15.28125</td>\n",
       "      <td>3438000.0</td>\n",
       "      <td>7.812065</td>\n",
       "    </tr>\n",
       "    <tr>\n",
       "      <th>1995-01-09</th>\n",
       "      <td>15.40625</td>\n",
       "      <td>15.18750</td>\n",
       "      <td>15.34375</td>\n",
       "      <td>15.21875</td>\n",
       "      <td>1795200.0</td>\n",
       "      <td>7.780110</td>\n",
       "    </tr>\n",
       "  </tbody>\n",
       "</table>\n",
       "</div>"
      ],
      "text/plain": [
       "                High       Low      Open     Close     Volume  Adj Close\n",
       "Date                                                                    \n",
       "1995-01-03  15.62500  15.43750  15.46875  15.59375  3318400.0   7.971821\n",
       "1995-01-04  15.65625  15.31250  15.53125  15.46875  2218800.0   7.907916\n",
       "1995-01-05  15.43750  15.21875  15.37500  15.25000  2319600.0   7.796084\n",
       "1995-01-06  15.40625  15.15625  15.15625  15.28125  3438000.0   7.812065\n",
       "1995-01-09  15.40625  15.18750  15.34375  15.21875  1795200.0   7.780110"
      ]
     },
     "execution_count": 5,
     "metadata": {},
     "output_type": "execute_result"
    }
   ],
   "source": [
    "PG.head()"
   ]
  },
  {
   "cell_type": "code",
   "execution_count": 6,
   "id": "cc6bc7c6",
   "metadata": {},
   "outputs": [
    {
     "data": {
      "text/html": [
       "<div>\n",
       "<style scoped>\n",
       "    .dataframe tbody tr th:only-of-type {\n",
       "        vertical-align: middle;\n",
       "    }\n",
       "\n",
       "    .dataframe tbody tr th {\n",
       "        vertical-align: top;\n",
       "    }\n",
       "\n",
       "    .dataframe thead th {\n",
       "        text-align: right;\n",
       "    }\n",
       "</style>\n",
       "<table border=\"1\" class=\"dataframe\">\n",
       "  <thead>\n",
       "    <tr style=\"text-align: right;\">\n",
       "      <th></th>\n",
       "      <th>High</th>\n",
       "      <th>Low</th>\n",
       "      <th>Open</th>\n",
       "      <th>Close</th>\n",
       "      <th>Volume</th>\n",
       "      <th>Adj Close</th>\n",
       "    </tr>\n",
       "    <tr>\n",
       "      <th>Date</th>\n",
       "      <th></th>\n",
       "      <th></th>\n",
       "      <th></th>\n",
       "      <th></th>\n",
       "      <th></th>\n",
       "      <th></th>\n",
       "    </tr>\n",
       "  </thead>\n",
       "  <tbody>\n",
       "    <tr>\n",
       "      <th>2022-04-04</th>\n",
       "      <td>154.350006</td>\n",
       "      <td>151.259995</td>\n",
       "      <td>153.809998</td>\n",
       "      <td>154.080002</td>\n",
       "      <td>5992000.0</td>\n",
       "      <td>154.080002</td>\n",
       "    </tr>\n",
       "    <tr>\n",
       "      <th>2022-04-05</th>\n",
       "      <td>157.369995</td>\n",
       "      <td>153.539993</td>\n",
       "      <td>153.610001</td>\n",
       "      <td>154.619995</td>\n",
       "      <td>7653000.0</td>\n",
       "      <td>154.619995</td>\n",
       "    </tr>\n",
       "    <tr>\n",
       "      <th>2022-04-06</th>\n",
       "      <td>157.289993</td>\n",
       "      <td>153.940002</td>\n",
       "      <td>154.419998</td>\n",
       "      <td>156.830002</td>\n",
       "      <td>8884700.0</td>\n",
       "      <td>156.830002</td>\n",
       "    </tr>\n",
       "    <tr>\n",
       "      <th>2022-04-07</th>\n",
       "      <td>159.389999</td>\n",
       "      <td>156.970001</td>\n",
       "      <td>157.869995</td>\n",
       "      <td>158.860001</td>\n",
       "      <td>6885800.0</td>\n",
       "      <td>158.860001</td>\n",
       "    </tr>\n",
       "    <tr>\n",
       "      <th>2022-04-08</th>\n",
       "      <td>159.919998</td>\n",
       "      <td>158.919998</td>\n",
       "      <td>157.869995</td>\n",
       "      <td>159.719604</td>\n",
       "      <td>517229.0</td>\n",
       "      <td>159.719604</td>\n",
       "    </tr>\n",
       "  </tbody>\n",
       "</table>\n",
       "</div>"
      ],
      "text/plain": [
       "                  High         Low        Open       Close     Volume  \\\n",
       "Date                                                                    \n",
       "2022-04-04  154.350006  151.259995  153.809998  154.080002  5992000.0   \n",
       "2022-04-05  157.369995  153.539993  153.610001  154.619995  7653000.0   \n",
       "2022-04-06  157.289993  153.940002  154.419998  156.830002  8884700.0   \n",
       "2022-04-07  159.389999  156.970001  157.869995  158.860001  6885800.0   \n",
       "2022-04-08  159.919998  158.919998  157.869995  159.719604   517229.0   \n",
       "\n",
       "             Adj Close  \n",
       "Date                    \n",
       "2022-04-04  154.080002  \n",
       "2022-04-05  154.619995  \n",
       "2022-04-06  156.830002  \n",
       "2022-04-07  158.860001  \n",
       "2022-04-08  159.719604  "
      ]
     },
     "execution_count": 6,
     "metadata": {},
     "output_type": "execute_result"
    }
   ],
   "source": [
    "PG.tail()"
   ]
  },
  {
   "cell_type": "markdown",
   "id": "f8696a50",
   "metadata": {},
   "source": [
    "### Simple Rate of Return"
   ]
  },
  {
   "cell_type": "markdown",
   "id": "24bd9f86",
   "metadata": {},
   "source": [
    "$$\\frac{P_{1} - P_{0}}{P_{0}} = \\frac{P_{1}}{P_{0}} - 1$$"
   ]
  },
  {
   "cell_type": "code",
   "execution_count": 8,
   "id": "5c89a6ab",
   "metadata": {},
   "outputs": [
    {
     "name": "stdout",
     "output_type": "stream",
     "text": [
      "Date\n",
      "1995-01-03         NaN\n",
      "1995-01-04   -0.008016\n",
      "1995-01-05   -0.014142\n",
      "1995-01-06    0.002050\n",
      "1995-01-09   -0.004090\n",
      "                ...   \n",
      "2022-04-04   -0.006512\n",
      "2022-04-05    0.003505\n",
      "2022-04-06    0.014293\n",
      "2022-04-07    0.012944\n",
      "2022-04-08    0.005411\n",
      "Name: Simple Return, Length: 6867, dtype: float64\n"
     ]
    }
   ],
   "source": [
    "PG['Simple Return'] = PG['Adj Close']/PG['Adj Close'].shift(1) - 1\n",
    "print (PG['Simple Return'])"
   ]
  },
  {
   "cell_type": "code",
   "execution_count": 13,
   "id": "79341639",
   "metadata": {},
   "outputs": [
    {
     "data": {
      "image/png": "[encoded data removed]",
      "text/plain": [
       "<Figure size 576x360 with 1 Axes>"
      ]
     },
     "metadata": {
      "needs_background": "light"
     },
     "output_type": "display_data"
    }
   ],
   "source": [
    "PG['Simple Return'].plot(figsize = (8,5))\n",
    "plt.show()"
   ]
  },
  {
   "cell_type": "code",
   "execution_count": 15,
   "id": "52c81095",
   "metadata": {},
   "outputs": [
    {
     "data": {
      "text/plain": [
       "0.0005367252547074237"
      ]
     },
     "execution_count": 15,
     "metadata": {},
     "output_type": "execute_result"
    }
   ],
   "source": [
    "avg_returns_d = PG['Simple Return'].mean()\n",
    "avg_returns_d"
   ]
  },
  {
   "cell_type": "code",
   "execution_count": 16,
   "id": "8f6e6ee7",
   "metadata": {},
   "outputs": [
    {
     "data": {
      "text/plain": [
       "0.13418131367685593"
      ]
     },
     "execution_count": 16,
     "metadata": {},
     "output_type": "execute_result"
    }
   ],
   "source": [
    "avg_return_a = PG['Simple Return'].mean() * 250\n",
    "avg_return_a"
   ]
  },
  {
   "cell_type": "code",
   "execution_count": 17,
   "id": "f8dd69d4",
   "metadata": {},
   "outputs": [
    {
     "name": "stdout",
     "output_type": "stream",
     "text": [
      "13.418%\n"
     ]
    }
   ],
   "source": [
    "avg_return_a_percentage = str(round(avg_return_a,5) * 100) + '%'\n",
    "print (avg_return_a_percentage)"
   ]
  },
  {
   "cell_type": "markdown",
   "id": "c63b3e4b",
   "metadata": {},
   "source": [
    "## 65 Calculating a security's rate of return in Python – Logarithmic Returns"
   ]
  },
  {
   "cell_type": "markdown",
   "id": "6c7de413",
   "metadata": {},
   "source": [
    "### Logarithmic Return"
   ]
  },
  {
   "cell_type": "markdown",
   "id": "4ca8f513",
   "metadata": {},
   "source": [
    "$$ln \\frac{P_{t}}{P_{t-1}}$$"
   ]
  },
  {
   "cell_type": "code",
   "execution_count": 18,
   "id": "0822660b",
   "metadata": {},
   "outputs": [
    {
     "data": {
      "text/html": [
       "<div>\n",
       "<style scoped>\n",
       "    .dataframe tbody tr th:only-of-type {\n",
       "        vertical-align: middle;\n",
       "    }\n",
       "\n",
       "    .dataframe tbody tr th {\n",
       "        vertical-align: top;\n",
       "    }\n",
       "\n",
       "    .dataframe thead th {\n",
       "        text-align: right;\n",
       "    }\n",
       "</style>\n",
       "<table border=\"1\" class=\"dataframe\">\n",
       "  <thead>\n",
       "    <tr style=\"text-align: right;\">\n",
       "      <th></th>\n",
       "      <th>High</th>\n",
       "      <th>Low</th>\n",
       "      <th>Open</th>\n",
       "      <th>Close</th>\n",
       "      <th>Volume</th>\n",
       "      <th>Adj Close</th>\n",
       "      <th>Simple Return</th>\n",
       "    </tr>\n",
       "    <tr>\n",
       "      <th>Date</th>\n",
       "      <th></th>\n",
       "      <th></th>\n",
       "      <th></th>\n",
       "      <th></th>\n",
       "      <th></th>\n",
       "      <th></th>\n",
       "      <th></th>\n",
       "    </tr>\n",
       "  </thead>\n",
       "  <tbody>\n",
       "    <tr>\n",
       "      <th>1995-01-03</th>\n",
       "      <td>15.62500</td>\n",
       "      <td>15.43750</td>\n",
       "      <td>15.46875</td>\n",
       "      <td>15.59375</td>\n",
       "      <td>3318400.0</td>\n",
       "      <td>7.971821</td>\n",
       "      <td>NaN</td>\n",
       "    </tr>\n",
       "    <tr>\n",
       "      <th>1995-01-04</th>\n",
       "      <td>15.65625</td>\n",
       "      <td>15.31250</td>\n",
       "      <td>15.53125</td>\n",
       "      <td>15.46875</td>\n",
       "      <td>2218800.0</td>\n",
       "      <td>7.907916</td>\n",
       "      <td>-0.008016</td>\n",
       "    </tr>\n",
       "    <tr>\n",
       "      <th>1995-01-05</th>\n",
       "      <td>15.43750</td>\n",
       "      <td>15.21875</td>\n",
       "      <td>15.37500</td>\n",
       "      <td>15.25000</td>\n",
       "      <td>2319600.0</td>\n",
       "      <td>7.796084</td>\n",
       "      <td>-0.014142</td>\n",
       "    </tr>\n",
       "    <tr>\n",
       "      <th>1995-01-06</th>\n",
       "      <td>15.40625</td>\n",
       "      <td>15.15625</td>\n",
       "      <td>15.15625</td>\n",
       "      <td>15.28125</td>\n",
       "      <td>3438000.0</td>\n",
       "      <td>7.812065</td>\n",
       "      <td>0.002050</td>\n",
       "    </tr>\n",
       "    <tr>\n",
       "      <th>1995-01-09</th>\n",
       "      <td>15.40625</td>\n",
       "      <td>15.18750</td>\n",
       "      <td>15.34375</td>\n",
       "      <td>15.21875</td>\n",
       "      <td>1795200.0</td>\n",
       "      <td>7.780110</td>\n",
       "      <td>-0.004090</td>\n",
       "    </tr>\n",
       "  </tbody>\n",
       "</table>\n",
       "</div>"
      ],
      "text/plain": [
       "                High       Low      Open     Close     Volume  Adj Close  \\\n",
       "Date                                                                       \n",
       "1995-01-03  15.62500  15.43750  15.46875  15.59375  3318400.0   7.971821   \n",
       "1995-01-04  15.65625  15.31250  15.53125  15.46875  2218800.0   7.907916   \n",
       "1995-01-05  15.43750  15.21875  15.37500  15.25000  2319600.0   7.796084   \n",
       "1995-01-06  15.40625  15.15625  15.15625  15.28125  3438000.0   7.812065   \n",
       "1995-01-09  15.40625  15.18750  15.34375  15.21875  1795200.0   7.780110   \n",
       "\n",
       "            Simple Return  \n",
       "Date                       \n",
       "1995-01-03            NaN  \n",
       "1995-01-04      -0.008016  \n",
       "1995-01-05      -0.014142  \n",
       "1995-01-06       0.002050  \n",
       "1995-01-09      -0.004090  "
      ]
     },
     "execution_count": 18,
     "metadata": {},
     "output_type": "execute_result"
    }
   ],
   "source": [
    "PG.head()"
   ]
  },
  {
   "cell_type": "code",
   "execution_count": 21,
   "id": "f3f9071b",
   "metadata": {},
   "outputs": [
    {
     "data": {
      "text/plain": [
       "Date\n",
       "1995-01-03         NaN\n",
       "1995-01-04   -0.008049\n",
       "1995-01-05   -0.014243\n",
       "1995-01-06    0.002048\n",
       "1995-01-09   -0.004099\n",
       "                ...   \n",
       "2022-04-04   -0.006534\n",
       "2022-04-05    0.003499\n",
       "2022-04-06    0.014192\n",
       "2022-04-07    0.012861\n",
       "2022-04-08    0.005396\n",
       "Name: Log Return, Length: 6867, dtype: float64"
      ]
     },
     "execution_count": 21,
     "metadata": {},
     "output_type": "execute_result"
    }
   ],
   "source": [
    "PG['Log Return'] = np.log(PG['Adj Close']/PG['Adj Close'].shift(1))\n",
    "PG['Log Return']"
   ]
  },
  {
   "cell_type": "code",
   "execution_count": 29,
   "id": "152e6bf3",
   "metadata": {},
   "outputs": [
    {
     "data": {
      "image/png": "[encoded data removed]",
      "text/plain": [
       "<Figure size 576x360 with 1 Axes>"
      ]
     },
     "metadata": {
      "needs_background": "light"
     },
     "output_type": "display_data"
    }
   ],
   "source": [
    "PG['Log Return'].plot(figsize=(8,5))\n",
    "plt.show()"
   ]
  },
  {
   "cell_type": "code",
   "execution_count": 24,
   "id": "0b30bd93",
   "metadata": {},
   "outputs": [
    {
     "data": {
      "text/plain": [
       "0.00043657251363034695"
      ]
     },
     "execution_count": 24,
     "metadata": {},
     "output_type": "execute_result"
    }
   ],
   "source": [
    "avg_log_returns_d = PG['Log Return'].mean()\n",
    "avg_log_returns_d"
   ]
  },
  {
   "cell_type": "code",
   "execution_count": 25,
   "id": "21db50f8",
   "metadata": {},
   "outputs": [
    {
     "data": {
      "text/plain": [
       "0.10914312840758673"
      ]
     },
     "execution_count": 25,
     "metadata": {},
     "output_type": "execute_result"
    }
   ],
   "source": [
    "avg_log_returns_a = PG['Log Return'].mean() * 250\n",
    "avg_log_returns_a"
   ]
  },
  {
   "cell_type": "code",
   "execution_count": 26,
   "id": "207576ff",
   "metadata": {},
   "outputs": [
    {
     "name": "stdout",
     "output_type": "stream",
     "text": [
      "10.914%\n"
     ]
    }
   ],
   "source": [
    "avg_log_returns_a_percentage = str(round(avg_log_returns_a,5) * 100) + '%'\n",
    "print (avg_log_returns_a_percentage)"
   ]
  },
  {
   "cell_type": "markdown",
   "id": "ca0842ba",
   "metadata": {},
   "source": [
    "## 67 Calculating a Portfolio of Securities' Rate of Return"
   ]
  },
  {
   "cell_type": "code",
   "execution_count": 30,
   "id": "44d91b56",
   "metadata": {},
   "outputs": [],
   "source": [
    "import numpy as np\n",
    "import pandas as pd\n",
    "from pandas_datareader import data as wb\n",
    "import matplotlib.pyplot as plt"
   ]
  },
  {
   "cell_type": "code",
   "execution_count": 31,
   "id": "9ff23acc",
   "metadata": {},
   "outputs": [],
   "source": [
    "tickers = ['PG', 'MSFT', 'F', 'GE']\n",
    "mydata = pd.DataFrame()\n",
    "for t in tickers:\n",
    "    mydata[t] = wb.DataReader(t, data_source = 'yahoo', start = '1995-1-1')['Adj Close']"
   ]
  },
  {
   "cell_type": "code",
   "execution_count": 32,
   "id": "9f329249",
   "metadata": {},
   "outputs": [
    {
     "name": "stdout",
     "output_type": "stream",
     "text": [
      "<class 'pandas.core.frame.DataFrame'>\n",
      "DatetimeIndex: 6867 entries, 1995-01-03 to 2022-04-08\n",
      "Data columns (total 4 columns):\n",
      " #   Column  Non-Null Count  Dtype  \n",
      "---  ------  --------------  -----  \n",
      " 0   PG      6867 non-null   float64\n",
      " 1   MSFT    6867 non-null   float64\n",
      " 2   F       6867 non-null   float64\n",
      " 3   GE      6867 non-null   float64\n",
      "dtypes: float64(4)\n",
      "memory usage: 268.2 KB\n"
     ]
    }
   ],
   "source": [
    "mydata.info()"
   ]
  },
  {
   "cell_type": "code",
   "execution_count": 33,
   "id": "63bb4176",
   "metadata": {},
   "outputs": [
    {
     "data": {
      "text/html": [
       "<div>\n",
       "<style scoped>\n",
       "    .dataframe tbody tr th:only-of-type {\n",
       "        vertical-align: middle;\n",
       "    }\n",
       "\n",
       "    .dataframe tbody tr th {\n",
       "        vertical-align: top;\n",
       "    }\n",
       "\n",
       "    .dataframe thead th {\n",
       "        text-align: right;\n",
       "    }\n",
       "</style>\n",
       "<table border=\"1\" class=\"dataframe\">\n",
       "  <thead>\n",
       "    <tr style=\"text-align: right;\">\n",
       "      <th></th>\n",
       "      <th>PG</th>\n",
       "      <th>MSFT</th>\n",
       "      <th>F</th>\n",
       "      <th>GE</th>\n",
       "    </tr>\n",
       "    <tr>\n",
       "      <th>Date</th>\n",
       "      <th></th>\n",
       "      <th></th>\n",
       "      <th></th>\n",
       "      <th></th>\n",
       "    </tr>\n",
       "  </thead>\n",
       "  <tbody>\n",
       "    <tr>\n",
       "      <th>1995-01-03</th>\n",
       "      <td>7.971821</td>\n",
       "      <td>2.377005</td>\n",
       "      <td>3.953285</td>\n",
       "      <td>31.972105</td>\n",
       "    </tr>\n",
       "    <tr>\n",
       "      <th>1995-01-04</th>\n",
       "      <td>7.907916</td>\n",
       "      <td>2.394284</td>\n",
       "      <td>4.059653</td>\n",
       "      <td>31.972105</td>\n",
       "    </tr>\n",
       "    <tr>\n",
       "      <th>1995-01-05</th>\n",
       "      <td>7.796089</td>\n",
       "      <td>2.354790</td>\n",
       "      <td>4.024197</td>\n",
       "      <td>32.050476</td>\n",
       "    </tr>\n",
       "    <tr>\n",
       "      <th>1995-01-06</th>\n",
       "      <td>7.812062</td>\n",
       "      <td>2.394284</td>\n",
       "      <td>4.024197</td>\n",
       "      <td>31.893753</td>\n",
       "    </tr>\n",
       "    <tr>\n",
       "      <th>1995-01-09</th>\n",
       "      <td>7.780111</td>\n",
       "      <td>2.379474</td>\n",
       "      <td>4.095106</td>\n",
       "      <td>31.580301</td>\n",
       "    </tr>\n",
       "  </tbody>\n",
       "</table>\n",
       "</div>"
      ],
      "text/plain": [
       "                  PG      MSFT         F         GE\n",
       "Date                                               \n",
       "1995-01-03  7.971821  2.377005  3.953285  31.972105\n",
       "1995-01-04  7.907916  2.394284  4.059653  31.972105\n",
       "1995-01-05  7.796089  2.354790  4.024197  32.050476\n",
       "1995-01-06  7.812062  2.394284  4.024197  31.893753\n",
       "1995-01-09  7.780111  2.379474  4.095106  31.580301"
      ]
     },
     "execution_count": 33,
     "metadata": {},
     "output_type": "execute_result"
    }
   ],
   "source": [
    "mydata.head()"
   ]
  },
  {
   "cell_type": "code",
   "execution_count": 34,
   "id": "758a18bc",
   "metadata": {},
   "outputs": [
    {
     "data": {
      "text/html": [
       "<div>\n",
       "<style scoped>\n",
       "    .dataframe tbody tr th:only-of-type {\n",
       "        vertical-align: middle;\n",
       "    }\n",
       "\n",
       "    .dataframe tbody tr th {\n",
       "        vertical-align: top;\n",
       "    }\n",
       "\n",
       "    .dataframe thead th {\n",
       "        text-align: right;\n",
       "    }\n",
       "</style>\n",
       "<table border=\"1\" class=\"dataframe\">\n",
       "  <thead>\n",
       "    <tr style=\"text-align: right;\">\n",
       "      <th></th>\n",
       "      <th>PG</th>\n",
       "      <th>MSFT</th>\n",
       "      <th>F</th>\n",
       "      <th>GE</th>\n",
       "    </tr>\n",
       "    <tr>\n",
       "      <th>Date</th>\n",
       "      <th></th>\n",
       "      <th></th>\n",
       "      <th></th>\n",
       "      <th></th>\n",
       "    </tr>\n",
       "  </thead>\n",
       "  <tbody>\n",
       "    <tr>\n",
       "      <th>2022-04-04</th>\n",
       "      <td>154.080002</td>\n",
       "      <td>314.970001</td>\n",
       "      <td>16.660</td>\n",
       "      <td>92.019997</td>\n",
       "    </tr>\n",
       "    <tr>\n",
       "      <th>2022-04-05</th>\n",
       "      <td>154.619995</td>\n",
       "      <td>310.880005</td>\n",
       "      <td>15.820</td>\n",
       "      <td>90.099998</td>\n",
       "    </tr>\n",
       "    <tr>\n",
       "      <th>2022-04-06</th>\n",
       "      <td>156.830002</td>\n",
       "      <td>299.500000</td>\n",
       "      <td>15.390</td>\n",
       "      <td>89.910004</td>\n",
       "    </tr>\n",
       "    <tr>\n",
       "      <th>2022-04-07</th>\n",
       "      <td>158.860001</td>\n",
       "      <td>301.369995</td>\n",
       "      <td>14.960</td>\n",
       "      <td>89.459999</td>\n",
       "    </tr>\n",
       "    <tr>\n",
       "      <th>2022-04-08</th>\n",
       "      <td>160.360306</td>\n",
       "      <td>298.450012</td>\n",
       "      <td>15.125</td>\n",
       "      <td>89.629997</td>\n",
       "    </tr>\n",
       "  </tbody>\n",
       "</table>\n",
       "</div>"
      ],
      "text/plain": [
       "                    PG        MSFT       F         GE\n",
       "Date                                                 \n",
       "2022-04-04  154.080002  314.970001  16.660  92.019997\n",
       "2022-04-05  154.619995  310.880005  15.820  90.099998\n",
       "2022-04-06  156.830002  299.500000  15.390  89.910004\n",
       "2022-04-07  158.860001  301.369995  14.960  89.459999\n",
       "2022-04-08  160.360306  298.450012  15.125  89.629997"
      ]
     },
     "execution_count": 34,
     "metadata": {},
     "output_type": "execute_result"
    }
   ],
   "source": [
    "mydata.tail()"
   ]
  },
  {
   "cell_type": "markdown",
   "id": "6d5f4895",
   "metadata": {},
   "source": [
    "### Normalization to 100:"
   ]
  },
  {
   "cell_type": "markdown",
   "id": "58e0fa32",
   "metadata": {},
   "source": [
    "$$\\frac{P_{t}}{P_{0}}*100$$"
   ]
  },
  {
   "cell_type": "code",
   "execution_count": 36,
   "id": "d389a0ef",
   "metadata": {},
   "outputs": [
    {
     "data": {
      "text/plain": [
       "PG       7.971821\n",
       "MSFT     2.377005\n",
       "F        3.953285\n",
       "GE      31.972105\n",
       "Name: 1995-01-03 00:00:00, dtype: float64"
      ]
     },
     "execution_count": 36,
     "metadata": {},
     "output_type": "execute_result"
    }
   ],
   "source": [
    "mydata.iloc[0] #this will extract data from the first row of the table"
   ]
  },
  {
   "cell_type": "code",
   "execution_count": 37,
   "id": "884f5d49",
   "metadata": {},
   "outputs": [
    {
     "data": {
      "image/png": "[encoded data removed]",
      "text/plain": [
       "<Figure size 1080x432 with 1 Axes>"
      ]
     },
     "metadata": {
      "needs_background": "light"
     },
     "output_type": "display_data"
    }
   ],
   "source": [
    "#The normalization is a tenique usually used in Finance\n",
    "#So that we can have a good landmark at the starting point shown below\n",
    "(mydata / mydata.iloc[0] * 100).plot(figsize = (15,6)) \n",
    "plt.show()"
   ]
  },
  {
   "cell_type": "code",
   "execution_count": 39,
   "id": "7e520362",
   "metadata": {},
   "outputs": [
    {
     "data": {
      "image/png": "[encoded data removed]",
      "text/plain": [
       "<Figure size 1152x360 with 1 Axes>"
      ]
     },
     "metadata": {
      "needs_background": "light"
     },
     "output_type": "display_data"
    }
   ],
   "source": [
    "#If we don't normalize it, we will see the adjusted closing prices of all companies plotted directly \n",
    "#and we will not have a good landmark\n",
    "\n",
    "mydata.plot(figsize = (16,5))\n",
    "plt.show()"
   ]
  },
  {
   "cell_type": "code",
   "execution_count": 41,
   "id": "d1958e4b",
   "metadata": {},
   "outputs": [
    {
     "data": {
      "text/plain": [
       "PG       7.971821\n",
       "MSFT     2.377005\n",
       "F        3.953285\n",
       "GE      31.972105\n",
       "Name: 1995-01-03 00:00:00, dtype: float64"
      ]
     },
     "execution_count": 41,
     "metadata": {},
     "output_type": "execute_result"
    }
   ],
   "source": [
    "#to apply loc, we will have to indicate the precise 'label' corresponding to the first row\n",
    "#because the dates are labels, and that is the requirement to use loc\n",
    "#Note that it is using brackets not parentheses to indicate location\n",
    "\n",
    "mydata.loc['1995-01-03'] #The dates are labels. "
   ]
  },
  {
   "cell_type": "code",
   "execution_count": 42,
   "id": "da1565ad",
   "metadata": {},
   "outputs": [
    {
     "data": {
      "text/plain": [
       "PG       7.971821\n",
       "MSFT     2.377005\n",
       "F        3.953285\n",
       "GE      31.972105\n",
       "Name: 1995-01-03 00:00:00, dtype: float64"
      ]
     },
     "execution_count": 42,
     "metadata": {},
     "output_type": "execute_result"
    }
   ],
   "source": [
    "# Alternatively, we can use iloc, but we will need to indicate the position of the data we want. \n",
    "# In this case, we want the first row of the table, and therefore, position is 0\n",
    "\n",
    "mydata.iloc[0]"
   ]
  },
  {
   "cell_type": "markdown",
   "id": "cff032e8",
   "metadata": {},
   "source": [
    "### Calculating the Return of a Portfolio of Securities"
   ]
  },
  {
   "cell_type": "code",
   "execution_count": 43,
   "id": "1ee5de75",
   "metadata": {},
   "outputs": [
    {
     "data": {
      "text/html": [
       "<div>\n",
       "<style scoped>\n",
       "    .dataframe tbody tr th:only-of-type {\n",
       "        vertical-align: middle;\n",
       "    }\n",
       "\n",
       "    .dataframe tbody tr th {\n",
       "        vertical-align: top;\n",
       "    }\n",
       "\n",
       "    .dataframe thead th {\n",
       "        text-align: right;\n",
       "    }\n",
       "</style>\n",
       "<table border=\"1\" class=\"dataframe\">\n",
       "  <thead>\n",
       "    <tr style=\"text-align: right;\">\n",
       "      <th></th>\n",
       "      <th>PG</th>\n",
       "      <th>MSFT</th>\n",
       "      <th>F</th>\n",
       "      <th>GE</th>\n",
       "    </tr>\n",
       "    <tr>\n",
       "      <th>Date</th>\n",
       "      <th></th>\n",
       "      <th></th>\n",
       "      <th></th>\n",
       "      <th></th>\n",
       "    </tr>\n",
       "  </thead>\n",
       "  <tbody>\n",
       "    <tr>\n",
       "      <th>1995-01-03</th>\n",
       "      <td>NaN</td>\n",
       "      <td>NaN</td>\n",
       "      <td>NaN</td>\n",
       "      <td>NaN</td>\n",
       "    </tr>\n",
       "    <tr>\n",
       "      <th>1995-01-04</th>\n",
       "      <td>-0.008016</td>\n",
       "      <td>0.007269</td>\n",
       "      <td>0.026906</td>\n",
       "      <td>0.000000</td>\n",
       "    </tr>\n",
       "    <tr>\n",
       "      <th>1995-01-05</th>\n",
       "      <td>-0.014141</td>\n",
       "      <td>-0.016495</td>\n",
       "      <td>-0.008734</td>\n",
       "      <td>0.002451</td>\n",
       "    </tr>\n",
       "    <tr>\n",
       "      <th>1995-01-06</th>\n",
       "      <td>0.002049</td>\n",
       "      <td>0.016772</td>\n",
       "      <td>0.000000</td>\n",
       "      <td>-0.004890</td>\n",
       "    </tr>\n",
       "    <tr>\n",
       "      <th>1995-01-09</th>\n",
       "      <td>-0.004090</td>\n",
       "      <td>-0.006186</td>\n",
       "      <td>0.017621</td>\n",
       "      <td>-0.009828</td>\n",
       "    </tr>\n",
       "  </tbody>\n",
       "</table>\n",
       "</div>"
      ],
      "text/plain": [
       "                  PG      MSFT         F        GE\n",
       "Date                                              \n",
       "1995-01-03       NaN       NaN       NaN       NaN\n",
       "1995-01-04 -0.008016  0.007269  0.026906  0.000000\n",
       "1995-01-05 -0.014141 -0.016495 -0.008734  0.002451\n",
       "1995-01-06  0.002049  0.016772  0.000000 -0.004890\n",
       "1995-01-09 -0.004090 -0.006186  0.017621 -0.009828"
      ]
     },
     "execution_count": 43,
     "metadata": {},
     "output_type": "execute_result"
    }
   ],
   "source": [
    "returns = (mydata / mydata.shift(1)) - 1 #note that this is daily returns\n",
    "returns.head()"
   ]
  },
  {
   "cell_type": "code",
   "execution_count": 44,
   "id": "3a0d1ad8",
   "metadata": {},
   "outputs": [],
   "source": [
    "weights = np.array([0.25, 0.25, 0.25, 0.25])"
   ]
  },
  {
   "cell_type": "code",
   "execution_count": 45,
   "id": "476faa6f",
   "metadata": {},
   "outputs": [
    {
     "data": {
      "text/plain": [
       "array([        nan,  0.0065397 , -0.00922967, ..., -0.01290052,\n",
       "       -0.00343941,  0.00317121])"
      ]
     },
     "execution_count": 45,
     "metadata": {},
     "output_type": "execute_result"
    }
   ],
   "source": [
    "#np.dot() - calculates vector or matrix products  \n",
    "#the output: dot product between the variables\n",
    "\n",
    "np.dot(returns, weights)  "
   ]
  },
  {
   "cell_type": "code",
   "execution_count": 47,
   "id": "50a079e6",
   "metadata": {},
   "outputs": [
    {
     "data": {
      "text/plain": [
       "PG      0.134328\n",
       "MSFT    0.224967\n",
       "F       0.129379\n",
       "GE      0.088883\n",
       "dtype: float64"
      ]
     },
     "execution_count": 47,
     "metadata": {},
     "output_type": "execute_result"
    }
   ],
   "source": [
    "annual_returns = returns.mean() * 250\n",
    "annual_returns"
   ]
  },
  {
   "cell_type": "code",
   "execution_count": 49,
   "id": "5cebb439",
   "metadata": {},
   "outputs": [
    {
     "data": {
      "text/plain": [
       "0.14438942458913584"
      ]
     },
     "execution_count": 49,
     "metadata": {},
     "output_type": "execute_result"
    }
   ],
   "source": [
    "np.dot(annual_returns, weights)"
   ]
  },
  {
   "cell_type": "code",
   "execution_count": 51,
   "id": "270fc871",
   "metadata": {},
   "outputs": [
    {
     "name": "stdout",
     "output_type": "stream",
     "text": [
      "14.438999999999998%\n"
     ]
    }
   ],
   "source": [
    "pfolio_1 = str(round(np.dot(annual_returns, weights), 5) * 100) + '%'\n",
    "print (pfolio_1)"
   ]
  },
  {
   "cell_type": "code",
   "execution_count": 57,
   "id": "6db4f4d7",
   "metadata": {},
   "outputs": [
    {
     "data": {
      "text/plain": [
       "14.43894"
      ]
     },
     "execution_count": 57,
     "metadata": {},
     "output_type": "execute_result"
    }
   ],
   "source": [
    "round(np.dot(annual_returns, weights) * 100, 5)"
   ]
  },
  {
   "cell_type": "code",
   "execution_count": 58,
   "id": "e4936395",
   "metadata": {},
   "outputs": [],
   "source": [
    "weights_2 = np.array([0.4, 0.4, 0.15, 0.05])"
   ]
  },
  {
   "cell_type": "code",
   "execution_count": 60,
   "id": "d4bd0a72",
   "metadata": {},
   "outputs": [
    {
     "name": "stdout",
     "output_type": "stream",
     "text": [
      "14.438999999999998%\n",
      "16.756999999999998%\n"
     ]
    }
   ],
   "source": [
    "pfolio_2 = str(round(np.dot(annual_returns, weights_2), 5) * 100) + '%'\n",
    "print (pfolio_1)\n",
    "print (pfolio_2)"
   ]
  },
  {
   "cell_type": "markdown",
   "id": "b9b83408",
   "metadata": {},
   "source": [
    "## 68 Popular stock indices that can help us understand financial markets"
   ]
  },
  {
   "cell_type": "markdown",
   "id": "7d63ead1",
   "metadata": {},
   "source": [
    "### The Top 3 US Market Indices\n",
    "\n",
    "1. S&P 500\n",
    "    * 500 largest listed companies\n",
    "    * Diverse constituency\n",
    "    * Market-cap-weighted\n",
    "    \n",
    "    A true representation of the US stock market\n",
    "    \n",
    "2. Dowjones\n",
    "    * 30 large public \n",
    "    * one of the historically oldest indices\n",
    "    \n",
    "    Not a true representation of the US stock market\n",
    "    \n",
    "3. Nasdaq\n",
    "    * Grouped securities\n",
    "    * Most companies listed are IT companies\n",
    "    \n",
    "    Shows the rate of return of tech stocks"
   ]
  },
  {
   "cell_type": "markdown",
   "id": "5b14f9e9",
   "metadata": {},
   "source": [
    "### Some foreign stock indices"
   ]
  },
  {
   "cell_type": "markdown",
   "id": "99b37e29",
   "metadata": {},
   "source": [
    "1. FTSE (UK)\n",
    "2. DAX (Germany)\n",
    "3. Nikkei (Japan)\n",
    "4. SSE (China)"
   ]
  },
  {
   "cell_type": "markdown",
   "id": "843d54b0",
   "metadata": {},
   "source": [
    "#### Stock indices are an excellent comparator to understand how your own stocks are performing\n",
    "\n",
    "#### They indicate what to expect if you invest in a diversified portfolio\n"
   ]
  },
  {
   "cell_type": "markdown",
   "id": "6a550640",
   "metadata": {},
   "source": [
    "## 69 Calculating the Indices' Rate of Return"
   ]
  },
  {
   "cell_type": "code",
   "execution_count": 61,
   "id": "78afc43a",
   "metadata": {},
   "outputs": [],
   "source": [
    "import numpy as np\n",
    "import pandas as pd\n",
    "from pandas_datareader import data as wb\n",
    "import matplotlib.pyplot as plt"
   ]
  },
  {
   "cell_type": "code",
   "execution_count": 63,
   "id": "d05632c2",
   "metadata": {},
   "outputs": [],
   "source": [
    "# S&P500 - '^GSPC'\n",
    "# NASDAQ - '^IXIC'\n",
    "# German DAX - '^GDAXI'\n",
    "# NYSE COMPOSITE (DJ) - '^NYA'\n",
    "# London FTSE - '^FTSE'\n",
    "\n",
    "#Note: Historical data for FTSE is not available through the website \n",
    "#and so it isn't available to reader.\n",
    "\n",
    "tickers = ['^GSPC', '^IXIC', '^GDAXI','^NYA']\n",
    "\n",
    "ind_data = pd.DataFrame()\n",
    "\n",
    "for t in tickers:\n",
    "    ind_data[t] = wb.DataReader(t, data_source = 'yahoo', start = '1997-1-1')['Adj Close']\n",
    "\n"
   ]
  },
  {
   "cell_type": "code",
   "execution_count": 64,
   "id": "260892e2",
   "metadata": {},
   "outputs": [
    {
     "data": {
      "text/html": [
       "<div>\n",
       "<style scoped>\n",
       "    .dataframe tbody tr th:only-of-type {\n",
       "        vertical-align: middle;\n",
       "    }\n",
       "\n",
       "    .dataframe tbody tr th {\n",
       "        vertical-align: top;\n",
       "    }\n",
       "\n",
       "    .dataframe thead th {\n",
       "        text-align: right;\n",
       "    }\n",
       "</style>\n",
       "<table border=\"1\" class=\"dataframe\">\n",
       "  <thead>\n",
       "    <tr style=\"text-align: right;\">\n",
       "      <th></th>\n",
       "      <th>^GSPC</th>\n",
       "      <th>^IXIC</th>\n",
       "      <th>^GDAXI</th>\n",
       "      <th>^NYA</th>\n",
       "    </tr>\n",
       "    <tr>\n",
       "      <th>Date</th>\n",
       "      <th></th>\n",
       "      <th></th>\n",
       "      <th></th>\n",
       "      <th></th>\n",
       "    </tr>\n",
       "  </thead>\n",
       "  <tbody>\n",
       "    <tr>\n",
       "      <th>1997-01-02</th>\n",
       "      <td>737.010010</td>\n",
       "      <td>1280.699951</td>\n",
       "      <td>2820.810059</td>\n",
       "      <td>4118.790039</td>\n",
       "    </tr>\n",
       "    <tr>\n",
       "      <th>1997-01-03</th>\n",
       "      <td>748.030029</td>\n",
       "      <td>1310.680054</td>\n",
       "      <td>2863.260010</td>\n",
       "      <td>4166.680176</td>\n",
       "    </tr>\n",
       "    <tr>\n",
       "      <th>1997-01-06</th>\n",
       "      <td>747.650024</td>\n",
       "      <td>1316.400024</td>\n",
       "      <td>2890.199951</td>\n",
       "      <td>4169.009766</td>\n",
       "    </tr>\n",
       "    <tr>\n",
       "      <th>1997-01-07</th>\n",
       "      <td>753.229980</td>\n",
       "      <td>1327.729980</td>\n",
       "      <td>2876.340088</td>\n",
       "      <td>4196.709961</td>\n",
       "    </tr>\n",
       "    <tr>\n",
       "      <th>1997-01-08</th>\n",
       "      <td>748.409973</td>\n",
       "      <td>1320.349976</td>\n",
       "      <td>2904.080078</td>\n",
       "      <td>4179.270020</td>\n",
       "    </tr>\n",
       "  </tbody>\n",
       "</table>\n",
       "</div>"
      ],
      "text/plain": [
       "                 ^GSPC        ^IXIC       ^GDAXI         ^NYA\n",
       "Date                                                         \n",
       "1997-01-02  737.010010  1280.699951  2820.810059  4118.790039\n",
       "1997-01-03  748.030029  1310.680054  2863.260010  4166.680176\n",
       "1997-01-06  747.650024  1316.400024  2890.199951  4169.009766\n",
       "1997-01-07  753.229980  1327.729980  2876.340088  4196.709961\n",
       "1997-01-08  748.409973  1320.349976  2904.080078  4179.270020"
      ]
     },
     "execution_count": 64,
     "metadata": {},
     "output_type": "execute_result"
    }
   ],
   "source": [
    "ind_data.head()"
   ]
  },
  {
   "cell_type": "code",
   "execution_count": 65,
   "id": "b5bee5df",
   "metadata": {},
   "outputs": [
    {
     "data": {
      "text/html": [
       "<div>\n",
       "<style scoped>\n",
       "    .dataframe tbody tr th:only-of-type {\n",
       "        vertical-align: middle;\n",
       "    }\n",
       "\n",
       "    .dataframe tbody tr th {\n",
       "        vertical-align: top;\n",
       "    }\n",
       "\n",
       "    .dataframe thead th {\n",
       "        text-align: right;\n",
       "    }\n",
       "</style>\n",
       "<table border=\"1\" class=\"dataframe\">\n",
       "  <thead>\n",
       "    <tr style=\"text-align: right;\">\n",
       "      <th></th>\n",
       "      <th>^GSPC</th>\n",
       "      <th>^IXIC</th>\n",
       "      <th>^GDAXI</th>\n",
       "      <th>^NYA</th>\n",
       "    </tr>\n",
       "    <tr>\n",
       "      <th>Date</th>\n",
       "      <th></th>\n",
       "      <th></th>\n",
       "      <th></th>\n",
       "      <th></th>\n",
       "    </tr>\n",
       "  </thead>\n",
       "  <tbody>\n",
       "    <tr>\n",
       "      <th>2022-04-04</th>\n",
       "      <td>4582.640137</td>\n",
       "      <td>14532.549805</td>\n",
       "      <td>14518.160156</td>\n",
       "      <td>16829.750000</td>\n",
       "    </tr>\n",
       "    <tr>\n",
       "      <th>2022-04-05</th>\n",
       "      <td>4525.120117</td>\n",
       "      <td>14204.169922</td>\n",
       "      <td>14424.360352</td>\n",
       "      <td>16645.050781</td>\n",
       "    </tr>\n",
       "    <tr>\n",
       "      <th>2022-04-06</th>\n",
       "      <td>4481.149902</td>\n",
       "      <td>13888.820312</td>\n",
       "      <td>14151.690430</td>\n",
       "      <td>16587.099609</td>\n",
       "    </tr>\n",
       "    <tr>\n",
       "      <th>2022-04-07</th>\n",
       "      <td>4500.209961</td>\n",
       "      <td>13897.299805</td>\n",
       "      <td>14078.150391</td>\n",
       "      <td>16631.449219</td>\n",
       "    </tr>\n",
       "    <tr>\n",
       "      <th>2022-04-08</th>\n",
       "      <td>4488.279785</td>\n",
       "      <td>13710.996094</td>\n",
       "      <td>14283.669922</td>\n",
       "      <td>16689.953125</td>\n",
       "    </tr>\n",
       "  </tbody>\n",
       "</table>\n",
       "</div>"
      ],
      "text/plain": [
       "                  ^GSPC         ^IXIC        ^GDAXI          ^NYA\n",
       "Date                                                             \n",
       "2022-04-04  4582.640137  14532.549805  14518.160156  16829.750000\n",
       "2022-04-05  4525.120117  14204.169922  14424.360352  16645.050781\n",
       "2022-04-06  4481.149902  13888.820312  14151.690430  16587.099609\n",
       "2022-04-07  4500.209961  13897.299805  14078.150391  16631.449219\n",
       "2022-04-08  4488.279785  13710.996094  14283.669922  16689.953125"
      ]
     },
     "execution_count": 65,
     "metadata": {},
     "output_type": "execute_result"
    }
   ],
   "source": [
    "ind_data.tail()"
   ]
  },
  {
   "cell_type": "code",
   "execution_count": 67,
   "id": "dabd4b44",
   "metadata": {},
   "outputs": [
    {
     "data": {
      "image/png": "[encoded data removed]",
      "text/plain": [
       "<Figure size 1152x576 with 1 Axes>"
      ]
     },
     "metadata": {
      "needs_background": "light"
     },
     "output_type": "display_data"
    }
   ],
   "source": [
    "# Normalization of the data\n",
    "\n",
    "(ind_data / ind_data.iloc[0] * 100).plot(figsize = (16,8))\n",
    "plt.show()"
   ]
  },
  {
   "cell_type": "code",
   "execution_count": 69,
   "id": "082d2d7c",
   "metadata": {},
   "outputs": [
    {
     "data": {
      "text/html": [
       "<div>\n",
       "<style scoped>\n",
       "    .dataframe tbody tr th:only-of-type {\n",
       "        vertical-align: middle;\n",
       "    }\n",
       "\n",
       "    .dataframe tbody tr th {\n",
       "        vertical-align: top;\n",
       "    }\n",
       "\n",
       "    .dataframe thead th {\n",
       "        text-align: right;\n",
       "    }\n",
       "</style>\n",
       "<table border=\"1\" class=\"dataframe\">\n",
       "  <thead>\n",
       "    <tr style=\"text-align: right;\">\n",
       "      <th></th>\n",
       "      <th>^GSPC</th>\n",
       "      <th>^IXIC</th>\n",
       "      <th>^GDAXI</th>\n",
       "      <th>^NYA</th>\n",
       "    </tr>\n",
       "    <tr>\n",
       "      <th>Date</th>\n",
       "      <th></th>\n",
       "      <th></th>\n",
       "      <th></th>\n",
       "      <th></th>\n",
       "    </tr>\n",
       "  </thead>\n",
       "  <tbody>\n",
       "    <tr>\n",
       "      <th>2022-04-04</th>\n",
       "      <td>0.008091</td>\n",
       "      <td>0.019006</td>\n",
       "      <td>0.004962</td>\n",
       "      <td>0.002502</td>\n",
       "    </tr>\n",
       "    <tr>\n",
       "      <th>2022-04-05</th>\n",
       "      <td>-0.012552</td>\n",
       "      <td>-0.022596</td>\n",
       "      <td>-0.006461</td>\n",
       "      <td>-0.010975</td>\n",
       "    </tr>\n",
       "    <tr>\n",
       "      <th>2022-04-06</th>\n",
       "      <td>-0.009717</td>\n",
       "      <td>-0.022201</td>\n",
       "      <td>-0.018903</td>\n",
       "      <td>-0.003482</td>\n",
       "    </tr>\n",
       "    <tr>\n",
       "      <th>2022-04-07</th>\n",
       "      <td>0.004253</td>\n",
       "      <td>0.000611</td>\n",
       "      <td>-0.005197</td>\n",
       "      <td>0.002674</td>\n",
       "    </tr>\n",
       "    <tr>\n",
       "      <th>2022-04-08</th>\n",
       "      <td>-0.002651</td>\n",
       "      <td>-0.013406</td>\n",
       "      <td>0.014598</td>\n",
       "      <td>0.003518</td>\n",
       "    </tr>\n",
       "  </tbody>\n",
       "</table>\n",
       "</div>"
      ],
      "text/plain": [
       "               ^GSPC     ^IXIC    ^GDAXI      ^NYA\n",
       "Date                                              \n",
       "2022-04-04  0.008091  0.019006  0.004962  0.002502\n",
       "2022-04-05 -0.012552 -0.022596 -0.006461 -0.010975\n",
       "2022-04-06 -0.009717 -0.022201 -0.018903 -0.003482\n",
       "2022-04-07  0.004253  0.000611 -0.005197  0.002674\n",
       "2022-04-08 -0.002651 -0.013406  0.014598  0.003518"
      ]
     },
     "execution_count": 69,
     "metadata": {},
     "output_type": "execute_result"
    }
   ],
   "source": [
    "ind_returns = (ind_data / ind_data.shift(1)) - 1\n",
    "ind_returns.tail()"
   ]
  },
  {
   "cell_type": "code",
   "execution_count": 70,
   "id": "9968b81c",
   "metadata": {},
   "outputs": [
    {
     "data": {
      "text/plain": [
       "^GSPC     0.090033\n",
       "^IXIC     0.124500\n",
       "^GDAXI    0.076380\n",
       "^NYA      0.073244\n",
       "dtype: float64"
      ]
     },
     "execution_count": 70,
     "metadata": {},
     "output_type": "execute_result"
    }
   ],
   "source": [
    "annual_ind_returns = ind_returns.mean() * 250\n",
    "annual_ind_returns"
   ]
  },
  {
   "cell_type": "markdown",
   "id": "66917363",
   "metadata": {},
   "source": [
    "### Compare the Performance of Stock and Stock Indices"
   ]
  },
  {
   "cell_type": "code",
   "execution_count": 71,
   "id": "cbe582bc",
   "metadata": {},
   "outputs": [],
   "source": [
    "tickers = ['PG', '^GSPC', '^DJI']\n",
    "\n",
    "data_2 = pd.DataFrame()\n",
    "\n",
    "for t in tickers:\n",
    "    data_2[t] = wb.DataReader(t, data_source = 'yahoo', start = '1997-1-1')['Adj Close']"
   ]
  },
  {
   "cell_type": "code",
   "execution_count": 72,
   "id": "3a3fc24e",
   "metadata": {},
   "outputs": [
    {
     "data": {
      "text/html": [
       "<div>\n",
       "<style scoped>\n",
       "    .dataframe tbody tr th:only-of-type {\n",
       "        vertical-align: middle;\n",
       "    }\n",
       "\n",
       "    .dataframe tbody tr th {\n",
       "        vertical-align: top;\n",
       "    }\n",
       "\n",
       "    .dataframe thead th {\n",
       "        text-align: right;\n",
       "    }\n",
       "</style>\n",
       "<table border=\"1\" class=\"dataframe\">\n",
       "  <thead>\n",
       "    <tr style=\"text-align: right;\">\n",
       "      <th></th>\n",
       "      <th>PG</th>\n",
       "      <th>^GSPC</th>\n",
       "      <th>^DJI</th>\n",
       "    </tr>\n",
       "    <tr>\n",
       "      <th>Date</th>\n",
       "      <th></th>\n",
       "      <th></th>\n",
       "      <th></th>\n",
       "    </tr>\n",
       "  </thead>\n",
       "  <tbody>\n",
       "    <tr>\n",
       "      <th>2022-04-04</th>\n",
       "      <td>154.080002</td>\n",
       "      <td>4582.640137</td>\n",
       "      <td>34921.878906</td>\n",
       "    </tr>\n",
       "    <tr>\n",
       "      <th>2022-04-05</th>\n",
       "      <td>154.619995</td>\n",
       "      <td>4525.120117</td>\n",
       "      <td>34641.179688</td>\n",
       "    </tr>\n",
       "    <tr>\n",
       "      <th>2022-04-06</th>\n",
       "      <td>156.830002</td>\n",
       "      <td>4481.149902</td>\n",
       "      <td>34496.511719</td>\n",
       "    </tr>\n",
       "    <tr>\n",
       "      <th>2022-04-07</th>\n",
       "      <td>158.860001</td>\n",
       "      <td>4500.209961</td>\n",
       "      <td>34583.570312</td>\n",
       "    </tr>\n",
       "    <tr>\n",
       "      <th>2022-04-08</th>\n",
       "      <td>160.100006</td>\n",
       "      <td>4488.279785</td>\n",
       "      <td>34721.121094</td>\n",
       "    </tr>\n",
       "  </tbody>\n",
       "</table>\n",
       "</div>"
      ],
      "text/plain": [
       "                    PG        ^GSPC          ^DJI\n",
       "Date                                             \n",
       "2022-04-04  154.080002  4582.640137  34921.878906\n",
       "2022-04-05  154.619995  4525.120117  34641.179688\n",
       "2022-04-06  156.830002  4481.149902  34496.511719\n",
       "2022-04-07  158.860001  4500.209961  34583.570312\n",
       "2022-04-08  160.100006  4488.279785  34721.121094"
      ]
     },
     "execution_count": 72,
     "metadata": {},
     "output_type": "execute_result"
    }
   ],
   "source": [
    "data_2.tail()"
   ]
  },
  {
   "cell_type": "code",
   "execution_count": 75,
   "id": "70fb524c",
   "metadata": {
    "scrolled": true
   },
   "outputs": [
    {
     "data": {
      "image/png": "[encoded data removed]",
      "text/plain": [
       "<Figure size 1152x360 with 1 Axes>"
      ]
     },
     "metadata": {
      "needs_background": "light"
     },
     "output_type": "display_data"
    }
   ],
   "source": [
    "(data_2 / data_2.iloc[0] * 100).plot(figsize = (16,5))\n",
    "plt.show()"
   ]
  },
  {
   "cell_type": "code",
   "execution_count": null,
   "id": "b69743a8",
   "metadata": {},
   "outputs": [],
   "source": []
  }
 ],
 "metadata": {
  "kernelspec": {
   "display_name": "Python 3 (ipykernel)",
   "language": "python",
   "name": "python3"
  },
  "language_info": {
   "codemirror_mode": {
    "name": "ipython",
    "version": 3
   },
   "file_extension": ".py",
   "mimetype": "text/x-python",
   "name": "python",
   "nbconvert_exporter": "python",
   "pygments_lexer": "ipython3",
   "version": "3.9.7"
  }
 },
 "nbformat": 4,
 "nbformat_minor": 5
}
